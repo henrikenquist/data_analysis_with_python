{
 "cells": [
  {
   "cell_type": "markdown",
   "metadata": {},
   "source": [
    "![rmotr](https://user-images.githubusercontent.com/7065401/52071918-bda15380-2562-11e9-828c-7f95297e4a82.png)\n",
    "<hr style=\"margin-bottom: 40px;\">\n",
    "\n",
    "<img src=\"https://user-images.githubusercontent.com/7065401/68501079-0695df00-023c-11ea-841f-455dac84a089.jpg\"\n",
    "    style=\"width:400px; float: right; margin: 0 40px 40px 40px;\"></img>\n",
    "\n",
    "# Complementary file types and IO tools\n",
    "\n",
    "The pandas I/O API has a set of top level functions to let us work with a wide variety of file types.\n",
    "\n",
    "In this lesson we'll show some file types pandas can work with besides the most known CSV, JSON and XLSX types."
   ]
  },
  {
   "cell_type": "markdown",
   "metadata": {},
   "source": [
    "![purple-divider](https://user-images.githubusercontent.com/7065401/52071927-c1cd7100-2562-11e9-908a-dde91ba14e59.png)\n",
    "\n",
    "## Hands on! "
   ]
  },
  {
   "cell_type": "code",
   "execution_count": 1,
   "metadata": {},
   "outputs": [],
   "source": [
    "import pandas as pd"
   ]
  },
  {
   "cell_type": "markdown",
   "metadata": {},
   "source": [
    "![green-divider](https://user-images.githubusercontent.com/7065401/52071924-c003ad80-2562-11e9-8297-1c6595f8a7ff.png)\n",
    "\n",
    "## Pickling\n",
    "\n",
    "When it comes to something like machine learning, after training your models, these models can't be saved to a .txt or .csv file, becouse it's an object with complex binary data.\n",
    "\n",
    "Luckily, in programming, there are various terms for the process of saving binary data to a file that can be accessed later. In Python, this is called **pickling**. You may know it as serialization, or maybe even something else.\n",
    "\n",
    "For our lucky, pandas handles _pickles_ in its IO module, and all pandas objects are equipped with the `to_pickle` and `read_pickle` methods."
   ]
  },
  {
   "cell_type": "code",
   "execution_count": 2,
   "metadata": {},
   "outputs": [
    {
     "data": {
      "text/html": [
       "<div>\n",
       "<style scoped>\n",
       "    .dataframe tbody tr th:only-of-type {\n",
       "        vertical-align: middle;\n",
       "    }\n",
       "\n",
       "    .dataframe tbody tr th {\n",
       "        vertical-align: top;\n",
       "    }\n",
       "\n",
       "    .dataframe thead th {\n",
       "        text-align: right;\n",
       "    }\n",
       "</style>\n",
       "<table border=\"1\" class=\"dataframe\">\n",
       "  <thead>\n",
       "    <tr style=\"text-align: right;\">\n",
       "      <th></th>\n",
       "      <th>A</th>\n",
       "      <th>B</th>\n",
       "      <th>C</th>\n",
       "    </tr>\n",
       "  </thead>\n",
       "  <tbody>\n",
       "    <tr>\n",
       "      <th>0</th>\n",
       "      <td>1</td>\n",
       "      <td>2</td>\n",
       "      <td>3</td>\n",
       "    </tr>\n",
       "    <tr>\n",
       "      <th>1</th>\n",
       "      <td>4</td>\n",
       "      <td>5</td>\n",
       "      <td>6</td>\n",
       "    </tr>\n",
       "  </tbody>\n",
       "</table>\n",
       "</div>"
      ],
      "text/plain": [
       "   A  B  C\n",
       "0  1  2  3\n",
       "1  4  5  6"
      ]
     },
     "execution_count": 2,
     "metadata": {},
     "output_type": "execute_result"
    }
   ],
   "source": [
    "df = pd.DataFrame([[1,2,3], [4,5,6]],\n",
    "                  columns=['A','B','C'])\n",
    "\n",
    "df"
   ]
  },
  {
   "cell_type": "markdown",
   "metadata": {},
   "source": [
    "The `to_pickle` method uses Python's `cPickle` module to save data structures to disk using the pickle format."
   ]
  },
  {
   "cell_type": "code",
   "execution_count": 3,
   "metadata": {},
   "outputs": [],
   "source": [
    "df.to_pickle('out.pkl')"
   ]
  },
  {
   "cell_type": "code",
   "execution_count": 4,
   "metadata": {},
   "outputs": [
    {
     "name": "stderr",
     "output_type": "stream",
     "text": [
      "'cat' is not recognized as an internal or external command,\n",
      "operable program or batch file.\n"
     ]
    }
   ],
   "source": [
    "!cat out.pkl"
   ]
  },
  {
   "cell_type": "markdown",
   "metadata": {},
   "source": [
    "The `read_pickle` method can be used to load any pickled pandas object (or any other pickled object) from file:"
   ]
  },
  {
   "cell_type": "code",
   "execution_count": 5,
   "metadata": {},
   "outputs": [],
   "source": [
    "df = pd.read_pickle('out.pkl')"
   ]
  },
  {
   "cell_type": "code",
   "execution_count": 6,
   "metadata": {
    "scrolled": true
   },
   "outputs": [
    {
     "data": {
      "text/html": [
       "<div>\n",
       "<style scoped>\n",
       "    .dataframe tbody tr th:only-of-type {\n",
       "        vertical-align: middle;\n",
       "    }\n",
       "\n",
       "    .dataframe tbody tr th {\n",
       "        vertical-align: top;\n",
       "    }\n",
       "\n",
       "    .dataframe thead th {\n",
       "        text-align: right;\n",
       "    }\n",
       "</style>\n",
       "<table border=\"1\" class=\"dataframe\">\n",
       "  <thead>\n",
       "    <tr style=\"text-align: right;\">\n",
       "      <th></th>\n",
       "      <th>A</th>\n",
       "      <th>B</th>\n",
       "      <th>C</th>\n",
       "    </tr>\n",
       "  </thead>\n",
       "  <tbody>\n",
       "    <tr>\n",
       "      <th>0</th>\n",
       "      <td>1</td>\n",
       "      <td>2</td>\n",
       "      <td>3</td>\n",
       "    </tr>\n",
       "    <tr>\n",
       "      <th>1</th>\n",
       "      <td>4</td>\n",
       "      <td>5</td>\n",
       "      <td>6</td>\n",
       "    </tr>\n",
       "  </tbody>\n",
       "</table>\n",
       "</div>"
      ],
      "text/plain": [
       "   A  B  C\n",
       "0  1  2  3\n",
       "1  4  5  6"
      ]
     },
     "execution_count": 6,
     "metadata": {},
     "output_type": "execute_result"
    }
   ],
   "source": [
    "df"
   ]
  },
  {
   "cell_type": "markdown",
   "metadata": {},
   "source": [
    "![green-divider](https://user-images.githubusercontent.com/7065401/52071924-c003ad80-2562-11e9-8297-1c6595f8a7ff.png)\n",
    "\n",
    "## Clipboard content\n",
    "\n",
    "A handy way to grab data is to use the `read_clipboard` method, which takes the contents of the clipboard buffer and passes them to the `read_table` method.\n",
    "\n",
    "For instance, you can copy the following text to the clipboard (CTRL-C on many operating systems):\n",
    "\n",
    "```\n",
    "  A B C\n",
    "x 1 4 p\n",
    "y 2 5 q\n",
    "z 3 6 r\n",
    "```\n",
    "\n",
    "And then import the data directly to a `DataFrame` by calling `read_clipboard` method."
   ]
  },
  {
   "cell_type": "code",
   "execution_count": 7,
   "metadata": {},
   "outputs": [],
   "source": [
    "df = pd.read_clipboard()"
   ]
  },
  {
   "cell_type": "code",
   "execution_count": 8,
   "metadata": {},
   "outputs": [
    {
     "data": {
      "text/html": [
       "<div>\n",
       "<style scoped>\n",
       "    .dataframe tbody tr th:only-of-type {\n",
       "        vertical-align: middle;\n",
       "    }\n",
       "\n",
       "    .dataframe tbody tr th {\n",
       "        vertical-align: top;\n",
       "    }\n",
       "\n",
       "    .dataframe thead th {\n",
       "        text-align: right;\n",
       "    }\n",
       "</style>\n",
       "<table border=\"1\" class=\"dataframe\">\n",
       "  <thead>\n",
       "    <tr style=\"text-align: right;\">\n",
       "      <th></th>\n",
       "      <th>A</th>\n",
       "      <th>B</th>\n",
       "      <th>C</th>\n",
       "    </tr>\n",
       "  </thead>\n",
       "  <tbody>\n",
       "    <tr>\n",
       "      <th>x</th>\n",
       "      <td>1</td>\n",
       "      <td>4</td>\n",
       "      <td>p</td>\n",
       "    </tr>\n",
       "    <tr>\n",
       "      <th>y</th>\n",
       "      <td>2</td>\n",
       "      <td>5</td>\n",
       "      <td>q</td>\n",
       "    </tr>\n",
       "    <tr>\n",
       "      <th>z</th>\n",
       "      <td>3</td>\n",
       "      <td>6</td>\n",
       "      <td>r</td>\n",
       "    </tr>\n",
       "  </tbody>\n",
       "</table>\n",
       "</div>"
      ],
      "text/plain": [
       "   A  B  C\n",
       "x  1  4  p\n",
       "y  2  5  q\n",
       "z  3  6  r"
      ]
     },
     "execution_count": 8,
     "metadata": {},
     "output_type": "execute_result"
    }
   ],
   "source": [
    "df"
   ]
  },
  {
   "cell_type": "markdown",
   "metadata": {},
   "source": [
    "The `to_clipboard` method can be used to write the contents of a `DataFrame` to the clipboard.\n",
    "\n",
    "Following which you can paste the clipboard contents into other applications (CTRL-V on many operating systems)."
   ]
  },
  {
   "cell_type": "code",
   "execution_count": 9,
   "metadata": {},
   "outputs": [],
   "source": [
    "df.to_clipboard()"
   ]
  },
  {
   "cell_type": "code",
   "execution_count": 10,
   "metadata": {},
   "outputs": [
    {
     "data": {
      "text/html": [
       "<div>\n",
       "<style scoped>\n",
       "    .dataframe tbody tr th:only-of-type {\n",
       "        vertical-align: middle;\n",
       "    }\n",
       "\n",
       "    .dataframe tbody tr th {\n",
       "        vertical-align: top;\n",
       "    }\n",
       "\n",
       "    .dataframe thead th {\n",
       "        text-align: right;\n",
       "    }\n",
       "</style>\n",
       "<table border=\"1\" class=\"dataframe\">\n",
       "  <thead>\n",
       "    <tr style=\"text-align: right;\">\n",
       "      <th></th>\n",
       "      <th>A</th>\n",
       "      <th>B</th>\n",
       "      <th>C</th>\n",
       "    </tr>\n",
       "  </thead>\n",
       "  <tbody>\n",
       "    <tr>\n",
       "      <th>x</th>\n",
       "      <td>1</td>\n",
       "      <td>4</td>\n",
       "      <td>p</td>\n",
       "    </tr>\n",
       "    <tr>\n",
       "      <th>y</th>\n",
       "      <td>2</td>\n",
       "      <td>5</td>\n",
       "      <td>q</td>\n",
       "    </tr>\n",
       "    <tr>\n",
       "      <th>z</th>\n",
       "      <td>3</td>\n",
       "      <td>6</td>\n",
       "      <td>r</td>\n",
       "    </tr>\n",
       "  </tbody>\n",
       "</table>\n",
       "</div>"
      ],
      "text/plain": [
       "   A  B  C\n",
       "x  1  4  p\n",
       "y  2  5  q\n",
       "z  3  6  r"
      ]
     },
     "execution_count": 10,
     "metadata": {},
     "output_type": "execute_result"
    }
   ],
   "source": [
    "pd.read_clipboard()"
   ]
  },
  {
   "cell_type": "markdown",
   "metadata": {},
   "source": [
    "We can see that we got the same content back, which we had earlier written to the clipboard."
   ]
  },
  {
   "cell_type": "markdown",
   "metadata": {},
   "source": [
    "![green-divider](https://user-images.githubusercontent.com/7065401/52071924-c003ad80-2562-11e9-8297-1c6595f8a7ff.png)\n",
    "\n",
    "## SAS files\n",
    "\n",
    "The top-level function `read_sas()` can read (but not write) SAS xport (.XPT) and (since v0.18.0) SAS7BDAT (.sas7bdat) format files.\n",
    "\n",
    "SAS files only contain two value types: ASCII text and floating point values (usually 8 bytes but sometimes truncated). For xport files, there is no automatic type conversion to integers, dates, or categoricals. For SAS7BDAT files, the format codes may allow date variables to be automatically converted to dates. By default the whole file is read and returned as a `DataFrame`.\n",
    "\n",
    "We are going to load the `airline.sav7bdat` file into a pandas `DataFrame` using the `read_sas` method."
   ]
  },
  {
   "cell_type": "code",
   "execution_count": 11,
   "metadata": {},
   "outputs": [
    {
     "name": "stderr",
     "output_type": "stream",
     "text": [
      "'cat' is not recognized as an internal or external command,\n",
      "operable program or batch file.\n"
     ]
    }
   ],
   "source": [
    "!cat airline.sas7bdat"
   ]
  },
  {
   "cell_type": "code",
   "execution_count": 12,
   "metadata": {},
   "outputs": [],
   "source": [
    "df = pd.read_sas('airline.sas7bdat')"
   ]
  },
  {
   "cell_type": "code",
   "execution_count": 13,
   "metadata": {},
   "outputs": [
    {
     "data": {
      "text/html": [
       "<div>\n",
       "<style scoped>\n",
       "    .dataframe tbody tr th:only-of-type {\n",
       "        vertical-align: middle;\n",
       "    }\n",
       "\n",
       "    .dataframe tbody tr th {\n",
       "        vertical-align: top;\n",
       "    }\n",
       "\n",
       "    .dataframe thead th {\n",
       "        text-align: right;\n",
       "    }\n",
       "</style>\n",
       "<table border=\"1\" class=\"dataframe\">\n",
       "  <thead>\n",
       "    <tr style=\"text-align: right;\">\n",
       "      <th></th>\n",
       "      <th>YEAR</th>\n",
       "      <th>Y</th>\n",
       "      <th>W</th>\n",
       "      <th>R</th>\n",
       "      <th>L</th>\n",
       "      <th>K</th>\n",
       "    </tr>\n",
       "  </thead>\n",
       "  <tbody>\n",
       "    <tr>\n",
       "      <th>0</th>\n",
       "      <td>1948.0</td>\n",
       "      <td>1.214</td>\n",
       "      <td>0.243</td>\n",
       "      <td>0.1454</td>\n",
       "      <td>1.415</td>\n",
       "      <td>0.612</td>\n",
       "    </tr>\n",
       "    <tr>\n",
       "      <th>1</th>\n",
       "      <td>1949.0</td>\n",
       "      <td>1.354</td>\n",
       "      <td>0.260</td>\n",
       "      <td>0.2181</td>\n",
       "      <td>1.384</td>\n",
       "      <td>0.559</td>\n",
       "    </tr>\n",
       "    <tr>\n",
       "      <th>2</th>\n",
       "      <td>1950.0</td>\n",
       "      <td>1.569</td>\n",
       "      <td>0.278</td>\n",
       "      <td>0.3157</td>\n",
       "      <td>1.388</td>\n",
       "      <td>0.573</td>\n",
       "    </tr>\n",
       "    <tr>\n",
       "      <th>3</th>\n",
       "      <td>1951.0</td>\n",
       "      <td>1.948</td>\n",
       "      <td>0.297</td>\n",
       "      <td>0.3940</td>\n",
       "      <td>1.550</td>\n",
       "      <td>0.564</td>\n",
       "    </tr>\n",
       "    <tr>\n",
       "      <th>4</th>\n",
       "      <td>1952.0</td>\n",
       "      <td>2.265</td>\n",
       "      <td>0.310</td>\n",
       "      <td>0.3559</td>\n",
       "      <td>1.802</td>\n",
       "      <td>0.574</td>\n",
       "    </tr>\n",
       "  </tbody>\n",
       "</table>\n",
       "</div>"
      ],
      "text/plain": [
       "     YEAR      Y      W       R      L      K\n",
       "0  1948.0  1.214  0.243  0.1454  1.415  0.612\n",
       "1  1949.0  1.354  0.260  0.2181  1.384  0.559\n",
       "2  1950.0  1.569  0.278  0.3157  1.388  0.573\n",
       "3  1951.0  1.948  0.297  0.3940  1.550  0.564\n",
       "4  1952.0  2.265  0.310  0.3559  1.802  0.574"
      ]
     },
     "execution_count": 13,
     "metadata": {},
     "output_type": "execute_result"
    }
   ],
   "source": [
    "df.head()"
   ]
  },
  {
   "cell_type": "markdown",
   "metadata": {},
   "source": [
    "We can also load the same file from a given URL:"
   ]
  },
  {
   "cell_type": "code",
   "execution_count": 14,
   "metadata": {},
   "outputs": [],
   "source": [
    "sas_url = 'http://www.principlesofeconometrics.com/sas/airline.sas7bdat'"
   ]
  },
  {
   "cell_type": "code",
   "execution_count": 15,
   "metadata": {},
   "outputs": [],
   "source": [
    "df = pd.read_sas(sas_url)"
   ]
  },
  {
   "cell_type": "code",
   "execution_count": 16,
   "metadata": {},
   "outputs": [
    {
     "data": {
      "text/html": [
       "<div>\n",
       "<style scoped>\n",
       "    .dataframe tbody tr th:only-of-type {\n",
       "        vertical-align: middle;\n",
       "    }\n",
       "\n",
       "    .dataframe tbody tr th {\n",
       "        vertical-align: top;\n",
       "    }\n",
       "\n",
       "    .dataframe thead th {\n",
       "        text-align: right;\n",
       "    }\n",
       "</style>\n",
       "<table border=\"1\" class=\"dataframe\">\n",
       "  <thead>\n",
       "    <tr style=\"text-align: right;\">\n",
       "      <th></th>\n",
       "      <th>YEAR</th>\n",
       "      <th>Y</th>\n",
       "      <th>W</th>\n",
       "      <th>R</th>\n",
       "      <th>L</th>\n",
       "      <th>K</th>\n",
       "    </tr>\n",
       "  </thead>\n",
       "  <tbody>\n",
       "    <tr>\n",
       "      <th>0</th>\n",
       "      <td>1948.0</td>\n",
       "      <td>1.214</td>\n",
       "      <td>0.243</td>\n",
       "      <td>0.1454</td>\n",
       "      <td>1.415</td>\n",
       "      <td>0.612</td>\n",
       "    </tr>\n",
       "    <tr>\n",
       "      <th>1</th>\n",
       "      <td>1949.0</td>\n",
       "      <td>1.354</td>\n",
       "      <td>0.260</td>\n",
       "      <td>0.2181</td>\n",
       "      <td>1.384</td>\n",
       "      <td>0.559</td>\n",
       "    </tr>\n",
       "    <tr>\n",
       "      <th>2</th>\n",
       "      <td>1950.0</td>\n",
       "      <td>1.569</td>\n",
       "      <td>0.278</td>\n",
       "      <td>0.3157</td>\n",
       "      <td>1.388</td>\n",
       "      <td>0.573</td>\n",
       "    </tr>\n",
       "    <tr>\n",
       "      <th>3</th>\n",
       "      <td>1951.0</td>\n",
       "      <td>1.948</td>\n",
       "      <td>0.297</td>\n",
       "      <td>0.3940</td>\n",
       "      <td>1.550</td>\n",
       "      <td>0.564</td>\n",
       "    </tr>\n",
       "    <tr>\n",
       "      <th>4</th>\n",
       "      <td>1952.0</td>\n",
       "      <td>2.265</td>\n",
       "      <td>0.310</td>\n",
       "      <td>0.3559</td>\n",
       "      <td>1.802</td>\n",
       "      <td>0.574</td>\n",
       "    </tr>\n",
       "  </tbody>\n",
       "</table>\n",
       "</div>"
      ],
      "text/plain": [
       "     YEAR      Y      W       R      L      K\n",
       "0  1948.0  1.214  0.243  0.1454  1.415  0.612\n",
       "1  1949.0  1.354  0.260  0.2181  1.384  0.559\n",
       "2  1950.0  1.569  0.278  0.3157  1.388  0.573\n",
       "3  1951.0  1.948  0.297  0.3940  1.550  0.564\n",
       "4  1952.0  2.265  0.310  0.3559  1.802  0.574"
      ]
     },
     "execution_count": 16,
     "metadata": {},
     "output_type": "execute_result"
    }
   ],
   "source": [
    "df.head()"
   ]
  },
  {
   "cell_type": "markdown",
   "metadata": {},
   "source": [
    "Plot a variable:"
   ]
  },
  {
   "cell_type": "code",
   "execution_count": 17,
   "metadata": {},
   "outputs": [
    {
     "data": {
      "text/plain": [
       "<Axes: >"
      ]
     },
     "execution_count": 17,
     "metadata": {},
     "output_type": "execute_result"
    },
    {
     "data": {
      "image/png": "[encoded data removed]",
      "text/plain": [
       "<Figure size 640x480 with 1 Axes>"
      ]
     },
     "metadata": {},
     "output_type": "display_data"
    }
   ],
   "source": [
    "df.loc[:,'Y'].plot()"
   ]
  },
  {
   "cell_type": "markdown",
   "metadata": {},
   "source": [
    "![green-divider](https://user-images.githubusercontent.com/7065401/52071924-c003ad80-2562-11e9-8297-1c6595f8a7ff.png)\n",
    "\n",
    "## STATA files\n",
    "\n",
    "The top-level function `read_stata` will read a DTA file and return either a DataFrame or a **StataReader** that can be used to read the file incrementally.\n",
    "\n",
    "We are going to load the `broiler.dta` file into a pandas `DataFrame` using the `read_stata` method."
   ]
  },
  {
   "cell_type": "code",
   "execution_count": 19,
   "metadata": {},
   "outputs": [
    {
     "name": "stdout",
     "output_type": "stream",
     "text": [
      "q\u0002\u0001\u0000\f\n",
      "\u00004\u0000\u0000\u0000\u0000\u000e�\u0002(\u0000�\u0002\u0000\u0000\u0000\u0000\u0000\u0000\u0000\u0000x\u0001q\u0001�]\u0000\u0000\u0000\u0000\u0000\u0000\u0000\u0000\u0000\u0000&\f\n",
      "\u0000gFb�\u0000j��\u0000\u0001\u0000\u0000\u0000��/\u0001�rU\u0000@b�\u0000\u0000�/\u0001\u0000�/\u0001Ge_\u00000\u0000\u0000\u0000\u0000\u0000\u0000\u0000\u000013 Aug 2007 16:58\u0000������������year\u0000\u0000\u0000\u0000\u0000\u0000\u0000\u0000\u0000\u0000\u0000\u0000\u0000\u0000\u0000\u0000\u0000\u0000\u0000\u0000\u0000\u0000\u0000\u0000\u0000\u0000\u0000\u0000\u0000q\u0000\u0000CE\u0000\u0000\u0000\u0000\u0000\u0000\u0000\u0000\u0000\u0000\u0000\u0000\u0000\u0000\u0000\u0000\u0000\u0000\u0000\u0000\u0000\u0000\u0000\u0000\u0000\u0000\u0000\u0000y\u0000\u0000ERT\u0000\u0000\u0000\u0000\u0000\u0000\u0000\u0000\u0000\u0000\u0000\u0000\u0000\u0000\u0000\u0000\u0000\u0000\u0000\u0000\u0000\u0000\u0000\u0000\u0000\u0000\u0000pchick\u0000\u0000\u0000\u0000\u0000\u0000\u0000\u0000\u0000\u0000\u0000\u0000\u0000\u0000\u0000\u0000\u0000\u0000\u0000\u0000\u0000\u0000\u0000\u0000\u0000\u0000\u0000pbeef\u0000\u0000\u0000\u0000\u0000\u0000\u0000\u0000\u0000\u0000\u0000\u0000\u0000\u0000\u0000\u0000\u0000\u0000\u0000\u0000\u0000\u0000\u0000\u0000\u0000\u0000\u0000\u0000pcor\u0000\u0000\u0000\u0000\u0000\u0000\u0000\u0000\u0000\u0000\u0000\u0000\u0000\u0000\u0000\u0000\u0000\u0000\u0000\u0000\u0000\u0000\u0000\u0000\u0000\u0000\u0000\u0000\u0000pf\u0000\u0000\u0000\u0000\u0000\u0000\u0000\u0000\u0000\u0000\u0000\u0000\u0000\u0000\u0000\u0000\u0000\u0000\u0000\u0000\u0000\u0000\u0000\u0000\u0000\u0000\u0000\u0000\u0000\u0000\u0000cpi\u0000\u0000\u0000\u0000\u0000\u0000\u0000\u0000\u0000\u0000\u0000\u0000\u0000\u0000\u0000\u0000\u0000\u0000\u0000\u0000\u0000\u0000\u0000\u0000\u0000\u0000\u0000\u0000\u0000\u0000qproda\u0000\u0000\u0000\u0000\u0000\u0000\u0000\u0000\u0000\u0000\u0000\u0000\u0000\u0000\u0000\u0000\u0000\u0000\u0000\u0000\u0000\u0000\u0000\u0000\u0000\u0000\u0000pop\u0000\u0000\u0000\u0000\u0000\u0000\u0000\u0000\u0000\u0000\u0000\u0000\u0000\u0000\u0000\u0000\u0000\u0000\u0000\u0000\u0000\u0000\u0000\u0000\u0000\u0000\u0000\u0000\u0000\u0000meatex\u0000\u0000\u0000\u0000\u0000\u0000\u0000\u0000\u0000\u0000\u0000\u0000\u0000\u0000\u0000\u0000\u0000\u0000\u0000\u0000\u0000\u0000\u0000\u0000\u0000\u0000\u0000time\u0000\u0000\u0000\u0000\u0000\u0000\u0000\u0000\u0000\u0000\u0000\u0000\u0000\u0000\u0000\u0000\u0000\u0000\u0000\u0000\u0000\u0000\u0000\u0000\u0000\u0000\u0000\u0000\u0000\u0000\u0000\u0000\u0000\u0000\u0000\u0000\u0000\u0000\u0000\u0000\u0000\u0000\u0000\u0000\u0000\u0000\u0000\u0000\u0000\u0000\u0000\u0000\u0000\u0000\u0000%9.0g\u0000\u0000\u0000\t\u0000\u0000\u0000%9.0g\u0000\u0000\u0000\t\u0000\u0000\u0000%9.0g\u0000\u0000\u0000\t\u0000\u0000\u0000%9.0g\u0000\u0000\u0000\t\u0000\u0000\u0000%9.0g\u0000\u0000\u0000\t\u0000\u0000\u0000%9.0g\u0000\u0000\u0000\t\u0000\u0000\u0000%9.0g\u0000\u0000\u0000\t\u0000\u0000\u0000%9.0g\u0000\u0000\u0000\t\u0000\u0000\u0000%9.0g\u0000\u0000\u0000\t\u0000\u0000\u0000%9.0g\u0000\u0000\u0000\t\u0000\u0000\u0000%9.0g\u0000\u0000\u0000\t\u0000\u0000\u0000%9.0g\u0000\u0000\u0000\t\u0000\u0000\u0000\u0000\u0000\u0000\u0000\u0000\u0000\u0000\u0000\u0000\u0000\u0000\u0000\u0000\u0000\u0000\u0000\u0000\u0000\u0000\u0000\u0000\u0000\u0000\u0000\u0000\u0000\u0000\u0000\u0000\u0000\u0000\u0000\u0000\u0000\u0000\u0000\u0000\u0000\u0000\u0000\u0000\u0000\u0000\u0000\u0000\u0000\u0000\u0000\u0000\u0000\u0000\u0000\u0000\u0000\u0000\u0000\u0000\u0000\u0000\u0000\u0000\u0000\u0000\u0000\u0000\u0000\u0000\u0000\u0000\u0000\u0000\u0000\u0000\u0000\u0000\u0000\u0000\u0000\u0000\u0000\u0000\u0000\u0000\u0000\u0000\u0000\u0000\u0000\u0000\u0000\u0000\u0000\u0000\u0000\u0000\u0000\u0000\u0000\u0000\u0000\u0000\u0000\u0000\u0000\u0000\u0000\u0000\u0000\u0000\u0000\u0000\u0000\u0000\u0000\u0000\u0000\u0000\u0000\u0000\u0000\u0000\u0000\u0000\u0000\u0000\u0000\u0000\u0000\u0000\u0000\u0000\u0000\u0000\u0000\u0000\u0000\u0000\u0000\u0000\u0000\u0000\u0000\u0000\u0000\u0000\u0000\u0000\u0000\u0000\u0000\u0000\u0000\u0000\u0000\u0000\u0000\u0000\u0000\u0000\u0000\u0000\u0000\u0000\u0000\u0000\u0000\u0000\u0000\u0000\u0000\u0000\u0000\u0000\u0000\u0000\u0000\u0000\u0000\u0000\u0000\u0000\u0000\u0000\u0000\u0000\u0000\u0000\u0000\u0000\u0000\u0000\u0000\u0000\u0000\u0000\u0000\u0000\u0000\u0000\u0000\u0000\u0000\u0000\u0000\u0000\u0000\u0000\u0000\u0000\u0000\u0000\u0000\u0000\u0000\u0000\u0000\u0000\u0000\u0000\u0000\u0000\u0000\u0000\u0000\u0000\u0000\u0000\u0000\u0000\u0000\u0000\u0000\u0000\u0000\u0000\u0000\u0000\u0000\u0000\u0000\u0000\u0000\u0000\u0000\u0000\u0000\u0000\u0000\u0000\u0000\u0000\u0000\u0000\u0000\u0000\u0000\u0000\u0000\u0000\u0000\u0000\u0000\u0000\u0000\u0000\u0000\u0000\u0000\u0000\u0000\u0000\u0000\u0000\u0000\u0000\u0000\u0000\u0000\u0000\u0000\u0000\u0000\u0000\u0000\u0000\u0000\u0000\u0000\u0000\u0000\u0000\u0000\u0000\u0000\u0000\u0000\u0000\u0000\u0000\u0000\u0000\u0000\u0000\u0000\u0000\u0000\u0000\u0000\u0000\u0000\u0000\u0000\u0000\u0000\u0000\u0000\u0000\u0000\u0000\u0000\u0000\u0000\u0000\u0000\u0000\u0000\u0000\u0000\u0000\u0000\u0000\u0000\u0000\u0000\u0000\u0000\u0000\u0000\u0000\u0000\u0000\u0000\u0000\u0000\u0000\u0000\u0000\u0000\u0000\u0000\u0000\u0000\u0000\u0000\u0000\u0000\u0000\u0000\u0000\u0000\u0000\u0000\u0000\u0000\u0000\u0000\u0000\u0000\u0000\u0000\u0000\u0000\u0000\u0000\u0000\u0000\u0000\u0000\u0000\u0000\u0000\u0000\u0000\u0000\u0000\u0000\u0000\u0000\u0000\u0000\u0000\u0000\u0000\u0000\u0000\u0000year\u0000�dA\u0000��E\u0000\u0000�B���A33oB\u0000\u0000\u0000���APn J\u001b�\u0017C\u0000\u0000\u0000\u0000\u0000$B\u0000��D��qA\u0000��E�̑B\u0000\u0000\u0012B33�B\u0000\u0000\u0000\u0000\u0000�A�per-capita consumption of chicken, pounds, boneless equivalent\u0000B\u0000\u0000\u0012B33�B\u0000\u0000\u0000\u0000\u0000�A�per-capita real disposable income\u0000 pounds, boneless equivalent\u0000B\u0000\u0000\u0012B33�B\u0000\u0000\u0000\u0000\u0000�A�CPI index for whole fresh chicken, 1982-1984 = 100\u0000 equivalent\u0000B\u0000\u0000\u0012B33�B\u0000\u0000\u0000\u0000\u0000�A�CPI index for beef, 1982-84 = 100\u0000 1982-1984 = 100\u0000 equivalent\u0000B\u0000\u0000\u0012B33�B\u0000\u0000\u0000\u0000\u0000�A�PPI index for corn, 1982 = 100\u000000\u0000 1982-1984 = 100\u0000 equivalent\u0000B\u0000\u0000\u0012B33�B\u0000\u0000\u0000\u0000\u0000�A�nominal price index for broiler feed, scaled 1982-84 = 100\u0000ent\u0000B\u0000\u0000\u0012B33�B\u0000\u0000\u0000\u0000\u0000�A�Consumer price index, 1982-84 = 100\u0000, scaled 1982-84 = 100\u0000ent\u0000B\u0000\u0000\u0012B33�B\u0000\u0000\u0000\u0000\u0000�A�Aggregate production of young chicken, pounds\u0000982-84 = 100\u0000ent\u0000B\u0000\u0000\u0012B33�B\u0000\u0000\u0000\u0000\u0000�A�U.S. population on July 1, resident plus armed forces, millions\u0000\u0000\u0000\u0012B33�B\u0000\u0000\u0000\u0000\u0000�A�exports of beef, veal, and pork, pounds\u0000 armed forces, millions\u0000\u0000\u0000\u0012B33�B\u0000\u0000\u0000\u0000\u0000�A�= 0 for 1909, =1 for 1910 etc\u0000k, pounds\u0000 armed forces, millions\u0000\u0000\u0000\u0012B33�B\u0000\u0000\u0000\u0000\u0000�A�\u0001�\u0000\u0000\u0000_dta\u0000led'\u0000oled'\u0000ercooled'\u0000 `all' note10\u0000\u0000\u0000\u0000\u0000\u0000\u0001\u0000a\u0000T�/\u0001|�\\\u0000c\u0000z\u0002Q\u0000\u0000\u0000\u0001The authors would like to acknowledge the generous help of Bennett McCallum.\u0000\u0001E\u0000\u0000\u0000_dta\u0000led'\u0000oled'\u0000ercooled'\u0000 `all' note0\u0000\u0000\u0000\u0000\u0000\u0000\u0000\u0001\u0000a\u0000T�/\u0001|�\\\u0000b\u0000z\u0002\u0003\u0000\u0000\u0000\u000110\u0000\u0001\u0010\u0001\u0000\u0000_dta\u0000led'\u0000oled'\u0000ercooled'\u0000 `all' note9\u0000\u0000\u0000\u0000\u0000\u0000\u0000\u0001\u0000a\u0000T�/\u0001|�\\\u0000b\u0000z\u0002�\u0000\u0000\u0000\u0001To reproduce the results in their paper, QPRODA must be divided by 1439. This conversion factor transforms gross production of chicken into the boneless equivalent that is used as the consumption variable.\u0000\u0001�\u0000\u0000\u0000_dta\u0000led'\u0000oled'\u0000ercooled'\u0000 `all' note8\u0000\u0000\u0000\u0000\u0000\u0000\u0000\u0001\u0000a\u0000T�/\u0001|�\\\u0000b\u0000z\u0002�\u0000\u0000\u0000\u0001These data are from Dennis Epple and Bennett T. McCallum (2006)\"Simultaneous Equation Econometrics: The Missing Example,\" Economic Inquiry, 44(2), 374-384.\u0000\u0001`\u0000\u0000\u0000_dta\u0000led'\u0000oled'\u0000ercooled'\u0000 `all' note7\u0000\u0000\u0000\u0000\u0000\u0000\u0000\u0001\u0000a\u0000T�/\u0001|�\\\u0000b\u0000z\u0002\"\u0000\u0000\u0000\u0001variables are not logarithms.\u0000\u0001\u0000\u0000\u0000_dta\u0000led'\u0000oled'\u0000ercooled'\u0000 `all' note6\u0000\u0000\u0000\u0000\u0000\u0000\u0000\u0001\u0000a\u0000T�/\u0001|�\\\u0000b\u0000z\u0002A\u0000\u0000\u0000\u0001real variables constructed as pc = pchick/cpi pb = pbeef/cpi\u0000\u0001�\u0000\u0000\u0000_dta\u0000led'\u0000oled'\u0000ercooled'\u0000 `all' note5\u0000�\u0000F�Y\u0000\u0004\u0000\u0000\u0000(\u0000�\u0002�\u0000\u0000\u0000^�R\u0000r\u0000\u0000\u0000�The authors would like to acknowledge the generous help of Bennett McCallum.\u0000\u0001\u0010\u0001\u0000\u0000_dta\u0000led'\u0000oled'\u0000ercooled'\u0000 `all' note4\u0000�\u0000F�Y\u0000\u0004\u0000\u0000\u0000(\u0000�\u0002\u0010\u0001\u0000\u0000^�R\u0000r\u0000\u0000\u0000�To reproduce the results in their paper, QPRODA must be divided by 1439. This conversion factor transforms gross production of chicken into the boneless equivalent that is used as the consumption variable.\u0000\u0001�\u0000\u0000\u0000_dta\u0000led'\u0000oled'\u0000ercooled'\u0000 `all' note3\u0000�\u0000F�Y\u0000\u0004\u0000\u0000\u0000(\u0000�\u0002�\u0000\u0000\u0000^�R\u0000r\u0000\u0000\u0000�These data are from Dennis Epple and Bennett T. McCallum (2006)\"Simultaneous Equation Econometrics: The Missing Example,\" Economic Inquiry, 44(2), 374-384.\u0000\u0001`\u0000\u0000\u0000_dta\u0000led'\u0000oled'\u0000ercooled'\u0000 `all' note2\u0000�\u0000F�Y\u0000\u0004\u0000\u0000\u0000(\u0000�\u0002`\u0000\u0000\u0000^�R\u0000r\u0000\u0000\u0000�variables are not logarithms.\u0000\u0001\u0000\u0000\u0000_dta\u0000led'\u0000oled'\u0000ercooled'\u0000 `all' note1\u0000�\u0000F�Y\u0000\u0004\u0000\u0000\u0000(\u0000�\u0002\u0000\u0000\u0000^�R\u0000r\u0000\u0000\u0000�real variables constructed as pc = pchick/cpi pb = pbeef/cpi\u0000\u0000\u0000\u0000\u0000\u0000\u0000��D��dA\u0000��E\u0000\u0000�B���A33oB\u0000\u0000\u0000���APn J\u001b�\u0017C\u0000\u0000\u0000\u0000\u0000$B\u0000��D��qA\u0000��E�̑B\u0000\u0000\u0012B33�B\u0000\u0000\u0000\u0000\u0000�A��-JyI\u001aC\u0000\u0000\u0000\u0000\u0000(B\u0000\u0000�D��tA\u00008�E33�B��\u0010B���B\u0000\u0000\u0000\u0000\u0000�A\u0000\u0006.J9�\u001c\n",
      "C\u0000\u0000\u0000\u0000\u0000,B\u0000 �D33sA\u0000�\u0001F���B\u0000\u0000�A��zB\u0000\u0000\u0000���A�J4J��\u001fC\u0000\u0000\u0000\u0000\u00000B\u0000@�D��|A\u0000P\u0001F�̀B33�A��}B\u0000\u0000\u000033�A�0=J\u0019d\"C\u0000\u0000\u0000\u0000\u00004B\u0000`�D33kA\u0000�\u0007F\u0000\u0000�B���Aff`B\u0000\u0000\u0000ff�AP�4JfF%C\u0000\u0000\u0000\u0000\u00008B\u0000��Dff�A\u0000�\u000b\n",
      "F33kB���A��fB\u0000\u0000\u0000���A�%UJ�8(C\u0000\u0000\u0000\u0000\u0000<B\u0000��D�̌A\u0000p\f\n",
      "F33eB���AffNB\u0000\u0000\u0000���A�^J%F+C\u0000\u0000\u0000\u0000\u0000@B\u0000��Dff�A\u0000h\u000b\n",
      "FffbB��\u0005BffHB\u0000\u0000\u000033�A��|J\u0019$.C\u0000\u0000\u0000\u0000\u0000DB\u0000��Dff�A\u0000<\u000fFffNB��\tBffBB\u0000\u0000\u0000���A�,�J�\u00121C\u0000\u0000\u0000\u0000\u0000HB\u0000\u0000�D���A\u0000�\u000fF��QB\u0000\u0000\u0006B\u0000\u00008Bk\"NB���AD@�Jǫ4C\u0000\u0000HB\u0000\u0000LB\u0000 �D�̤A\u0000D\u0012F��=B\u0000\u0000\u0004Bff4B\u0014yOB33�A\u0004�J�7C\u0000\u0000DB\u0000\u0000PB\u0000@�D�̤A\u0000\b\u0017F\u0000\u0000HB��\bB333B�]PB���A���J��:C\u0000\u00008B\u0000\u0000TB\u0000`�D�̨A\u0000x\u001aF33EB33\u0007B33GBM�KB���A6̠J�==C\u0000\u0000�B\u0000\u0000XB\u0000��Dff�A\u0000`#F��@B33\u0003B��GB�\u0002KB\u0000\u0000�Ar!�J��?C\u0000\u0000�B\u0000\u0000\\B\u0000��D33�A\u0000T+F33GB��\tB33OBM�KB\u0000\u0000�A�/�J�MBC\u0000\u0000DB\u0000\u0000`B\u0000��D\u0000\u0000�A\u0000d2F��RB��\u0010B\u0000\u0000ZBK�QB��\u0001B\u000er�J\\�DC\u0000\u00000B\u0000\u0000dB\u0000��D���A\u0000\u00008F33CB��\u0011B��NB\u0014yOB��\u0005B���JF�FC\u0000\u00004B\u0000\u0000hB\u0000\u0000�D���A\u0000�>F��LB��\u0017B\u0000\u00006Bk\u001aFB33\u000b\n",
      "B\u000e\u000b\n",
      "�J��HC\u0000\u0000lB\u0000\u0000lB\u0000 �Dff�A\u0000�BFffXB��&B33EB\u0016sIB��\u0012B���JP�JC\u0000\u0000�B\u0000\u0000pB\u0000@�D33�A\u0000\\HF��QB\u0000\u0000.B\u0000\u0000ZB��TB33\u001bBz��JP\r\n",
      "MC\u0000\u0000DB\u0000\u0000tB\u0000`�D33�A\u0000�NF��SB\u0000\u00006B��^Bf.ZB\u0000\u0000\"BR��J7�OC\u0000\u0000dB\u0000\u0000xB\u0000��Dff�A\u0000�UF��UB��FBffPB�K[B33'B.��J`�QC\u0000\u0000�B\u0000\u0000|B\u0000��D���A\u0000�bF33�BffnB\u0000\u0000�B S�B��1Bv��J��SC\u0000\u0000�B\u0000\u0000�B\u0000��D\u0000\u0000�A\u0000�^F���B33uB33\u0000Co\u0010�B33EBF0�J��UC\u0000\u0000�B\u0000\u0000�B\u0000��D33�A\u0000�`F�̢B��wBff�B�C�B33WB���J\u0017�WC\u0000\u0000�B\u0000\u0000�B\u0000\u0000�D\u0000\u0000�A\u0000dhF�̙B��oB33�Bĺ�B��cBg�\tK�\bZC\u0000\u00008C\u0000\u0000�B\u0000 �D\u0000\u0000�A\u0000`nF���B\u0000\u0000nB\u0000\u0000�B���BffrBޗ\r\n",
      "K/=\\C\u0000\u00004C\u0000\u0000�B\u0000@�D33�A\u0000�wF33�B33�B\u0000\u0000�BRؼBff�B�\u0017\u0017KÕ^C\u0000\u0000LC\u0000\u0000�B\u0000`�D33\u0003B\u0000�{Fff�B33�B\u0000\u0000�B�\r\n",
      "�B33�B\t�&K\u0014\u000eaC\u0000\u0000RC\u0000\u0000�B\u0000��D��\u0002B\u0000�zF�̼B���Bff�B���B�̤B��+K۹cC\u0000\u0000BC\u0000\u0000�B\u0000��D��\u0006B\u0000$~F\u0000\u0000�Bff�B���B[Q�B�̵B�\u00175KL�eC\u0000\u0000oC\u0000\u0000�B\u0000��D��\u0007B\u0000 F���B33�B\u0000\u0000�BF\u0005�B\u0000\u0000�B-\r\n",
      "7K!0hC\u0000\u0000TC\u0000\u0000�B\u0000��D\u0000\u0000\bB\u0000B�F���B33�Bff\u0000C\f\n",
      "��B33�B�\u0012<K�NjC\u0000\u0000`C\u0000\u0000�B\u0000\u0000�D33\r\n",
      "B\u0000\u000e�F\u0000\u0000�B���B3�\u0001C�\u000f\u0002C���B�'EK\u0017YlC\u0000\u0000bC\u0000\u0000�B\u0000 �D��\u0011B\u0000j�F\u0000\u0000�Bff�B���B\u0012��B33�B�JNKLwnC\u0000\u0000QC\u0000\u0000�B\u0000@�D��\u0014B\u0000��F���B���B\u0000\u0000�BJ��B33�B1_XK��pC\u0000\u0000�C\u0000\u0000�B\u0000`�D��\u001d\n",
      "B\u0000l�F���B���Bff�B�[�B33�Bo/kK��rC\u0000\u0000�C\u0000\u0000�B\u0000��Dff\u001e\n",
      "B\u0000��F33�B33�B33�B�Z\u0014C���BJ?tK`\u0005uC\u0000��C\u0000\u0000�B\u0000��D��#B\u0000�F�\u0019\tC���B���BO\u000e\u000fC\u0000\u0000�B�n�K�WwC\u0000�\u0011D\u0000\u0000�B\u0000��D��)B\u0000��Ff�\u0006C��\u0000C���B\u0012�\u0002C3�\u0002C䛌K\u0017�yC\u0000\u0000\r\n",
      "D\u0000\u0000�B\u0000��Dff0B\u0000B�F3�\u0003Cff\u0004C\u0000\u0000�B[Q�B33\bC�w�K\u0004V}C\u0000�&D\u0000\u0000�B\u0000\u0000�D\u0000\u0000:B\u0000��Ff�\u0003C�L\u0004C\u0000\u0000�B���B�L\f\n",
      "C�{�K�V�C\u0000�DD\u0000\u0000�B\u0000 �D��@B\u0000\u0016�F\u0000\u0000\r\n",
      "C�\u0019\tC�̹BFf\u0003C\u0000�\u0010C���K�\u0004�C\u0000\u0000CD\u0000\u0000�B\u0000@�D33CB\u00006�F�\u0019\f\n",
      "C\u0000\u0000\bC33�B�y\bC33\u0014C���KC\u0000\u0000uD\u0000\u0000�B\u0000`�D��@B\u0000|�F33\u000eCf�\u0006C\u0000\u0000�B�{\r\n",
      "Cff\u0018C}j�K�.�C\u0000��D\u0000\u0000�B\u0000��D33CB\u0000��F��\u0018C\u0000�\u0006C\u0000�\u001e\n",
      "C\u001d\n",
      "X.Cf�\u001c\n",
      "C�N�K\u0014��C\u0000`�D\u0000\u0000�B\u0000��D\u0000\u0000FB\u0000��F\u0000�\u001e\n",
      "C��\bC33�B��\u001d\n",
      "C\u0000� C9O�K�`�C\u0000`�D\u0000\u0000�B\u0000��D33GB\u0000��F��\u001fC\u0000�\bCff�B\u0013�\u0000C\u0000\u0000#Cd��K=��C\u0000��D\u0000\u0000�B\u0000��D��SB\u0000,�F��!C33\u000b\n",
      "Cff�B���B��&C���Ko��C\u0000@�D\u0000\u0000�B\u0000\u0000�D��TB\u0000��Ff�\"C�\u0019\u0014C�̘B\u0000\u0000\u000033,C��K�>�C\u0000��D\u0000\u0000�B\u0000 �D��WB\u0000\u0018�F\u0000\u0000(C\u0000� C���B\u0000\u0000\u0000�\u00191C\u0000\u0000\u0000V.�C\u0000 �D\u0000\u0000�B"
     ]
    }
   ],
   "source": [
    "!cat broiler.dta"
   ]
  },
  {
   "cell_type": "code",
   "execution_count": 18,
   "metadata": {},
   "outputs": [],
   "source": [
    "df = pd.read_stata('broiler.dta')"
   ]
  },
  {
   "cell_type": "code",
   "execution_count": 19,
   "metadata": {},
   "outputs": [
    {
     "data": {
      "text/html": [
       "<div>\n",
       "<style scoped>\n",
       "    .dataframe tbody tr th:only-of-type {\n",
       "        vertical-align: middle;\n",
       "    }\n",
       "\n",
       "    .dataframe tbody tr th {\n",
       "        vertical-align: top;\n",
       "    }\n",
       "\n",
       "    .dataframe thead th {\n",
       "        text-align: right;\n",
       "    }\n",
       "</style>\n",
       "<table border=\"1\" class=\"dataframe\">\n",
       "  <thead>\n",
       "    <tr style=\"text-align: right;\">\n",
       "      <th></th>\n",
       "      <th>year</th>\n",
       "      <th>q</th>\n",
       "      <th>y</th>\n",
       "      <th>pchick</th>\n",
       "      <th>pbeef</th>\n",
       "      <th>pcor</th>\n",
       "      <th>pf</th>\n",
       "      <th>cpi</th>\n",
       "      <th>qproda</th>\n",
       "      <th>pop</th>\n",
       "      <th>meatex</th>\n",
       "      <th>time</th>\n",
       "    </tr>\n",
       "  </thead>\n",
       "  <tbody>\n",
       "    <tr>\n",
       "      <th>0</th>\n",
       "      <td>1950.0</td>\n",
       "      <td>14.3</td>\n",
       "      <td>7863.0</td>\n",
       "      <td>69.500000</td>\n",
       "      <td>31.200001</td>\n",
       "      <td>59.799999</td>\n",
       "      <td>NaN</td>\n",
       "      <td>24.100000</td>\n",
       "      <td>2628500.0</td>\n",
       "      <td>151.684006</td>\n",
       "      <td>NaN</td>\n",
       "      <td>41.0</td>\n",
       "    </tr>\n",
       "    <tr>\n",
       "      <th>1</th>\n",
       "      <td>1951.0</td>\n",
       "      <td>15.1</td>\n",
       "      <td>7953.0</td>\n",
       "      <td>72.900002</td>\n",
       "      <td>36.500000</td>\n",
       "      <td>72.099998</td>\n",
       "      <td>NaN</td>\n",
       "      <td>26.000000</td>\n",
       "      <td>2843000.0</td>\n",
       "      <td>154.287003</td>\n",
       "      <td>NaN</td>\n",
       "      <td>42.0</td>\n",
       "    </tr>\n",
       "    <tr>\n",
       "      <th>2</th>\n",
       "      <td>1952.0</td>\n",
       "      <td>15.3</td>\n",
       "      <td>8071.0</td>\n",
       "      <td>73.099998</td>\n",
       "      <td>36.200001</td>\n",
       "      <td>71.300003</td>\n",
       "      <td>NaN</td>\n",
       "      <td>26.500000</td>\n",
       "      <td>2851200.0</td>\n",
       "      <td>156.953995</td>\n",
       "      <td>NaN</td>\n",
       "      <td>43.0</td>\n",
       "    </tr>\n",
       "    <tr>\n",
       "      <th>3</th>\n",
       "      <td>1953.0</td>\n",
       "      <td>15.2</td>\n",
       "      <td>8319.0</td>\n",
       "      <td>71.300003</td>\n",
       "      <td>28.500000</td>\n",
       "      <td>62.700001</td>\n",
       "      <td>NaN</td>\n",
       "      <td>26.700001</td>\n",
       "      <td>2953900.0</td>\n",
       "      <td>159.565002</td>\n",
       "      <td>NaN</td>\n",
       "      <td>44.0</td>\n",
       "    </tr>\n",
       "    <tr>\n",
       "      <th>4</th>\n",
       "      <td>1954.0</td>\n",
       "      <td>15.8</td>\n",
       "      <td>8276.0</td>\n",
       "      <td>64.400002</td>\n",
       "      <td>27.400000</td>\n",
       "      <td>63.400002</td>\n",
       "      <td>NaN</td>\n",
       "      <td>26.900000</td>\n",
       "      <td>3099700.0</td>\n",
       "      <td>162.391006</td>\n",
       "      <td>NaN</td>\n",
       "      <td>45.0</td>\n",
       "    </tr>\n",
       "  </tbody>\n",
       "</table>\n",
       "</div>"
      ],
      "text/plain": [
       "     year     q       y     pchick      pbeef       pcor  pf        cpi  \\\n",
       "0  1950.0  14.3  7863.0  69.500000  31.200001  59.799999 NaN  24.100000   \n",
       "1  1951.0  15.1  7953.0  72.900002  36.500000  72.099998 NaN  26.000000   \n",
       "2  1952.0  15.3  8071.0  73.099998  36.200001  71.300003 NaN  26.500000   \n",
       "3  1953.0  15.2  8319.0  71.300003  28.500000  62.700001 NaN  26.700001   \n",
       "4  1954.0  15.8  8276.0  64.400002  27.400000  63.400002 NaN  26.900000   \n",
       "\n",
       "      qproda         pop  meatex  time  \n",
       "0  2628500.0  151.684006     NaN  41.0  \n",
       "1  2843000.0  154.287003     NaN  42.0  \n",
       "2  2851200.0  156.953995     NaN  43.0  \n",
       "3  2953900.0  159.565002     NaN  44.0  \n",
       "4  3099700.0  162.391006     NaN  45.0  "
      ]
     },
     "execution_count": 19,
     "metadata": {},
     "output_type": "execute_result"
    }
   ],
   "source": [
    "df.head()"
   ]
  },
  {
   "cell_type": "markdown",
   "metadata": {},
   "source": [
    "We can also load the same file from a given URL:"
   ]
  },
  {
   "cell_type": "code",
   "execution_count": 20,
   "metadata": {},
   "outputs": [],
   "source": [
    "stata_url = 'http://www.principlesofeconometrics.com/stata/broiler.dta'"
   ]
  },
  {
   "cell_type": "code",
   "execution_count": 21,
   "metadata": {},
   "outputs": [],
   "source": [
    "df = pd.read_stata(stata_url)"
   ]
  },
  {
   "cell_type": "code",
   "execution_count": 22,
   "metadata": {},
   "outputs": [
    {
     "data": {
      "text/html": [
       "<div>\n",
       "<style scoped>\n",
       "    .dataframe tbody tr th:only-of-type {\n",
       "        vertical-align: middle;\n",
       "    }\n",
       "\n",
       "    .dataframe tbody tr th {\n",
       "        vertical-align: top;\n",
       "    }\n",
       "\n",
       "    .dataframe thead th {\n",
       "        text-align: right;\n",
       "    }\n",
       "</style>\n",
       "<table border=\"1\" class=\"dataframe\">\n",
       "  <thead>\n",
       "    <tr style=\"text-align: right;\">\n",
       "      <th></th>\n",
       "      <th>year</th>\n",
       "      <th>q</th>\n",
       "      <th>y</th>\n",
       "      <th>pchick</th>\n",
       "      <th>pbeef</th>\n",
       "      <th>pcor</th>\n",
       "      <th>pf</th>\n",
       "      <th>cpi</th>\n",
       "      <th>qproda</th>\n",
       "      <th>pop</th>\n",
       "      <th>meatex</th>\n",
       "      <th>time</th>\n",
       "    </tr>\n",
       "  </thead>\n",
       "  <tbody>\n",
       "    <tr>\n",
       "      <th>0</th>\n",
       "      <td>1950.0</td>\n",
       "      <td>14.3</td>\n",
       "      <td>7863.0</td>\n",
       "      <td>69.500000</td>\n",
       "      <td>31.200001</td>\n",
       "      <td>59.799999</td>\n",
       "      <td>NaN</td>\n",
       "      <td>24.100000</td>\n",
       "      <td>2628500.0</td>\n",
       "      <td>151.684006</td>\n",
       "      <td>NaN</td>\n",
       "      <td>41.0</td>\n",
       "    </tr>\n",
       "    <tr>\n",
       "      <th>1</th>\n",
       "      <td>1951.0</td>\n",
       "      <td>15.1</td>\n",
       "      <td>7953.0</td>\n",
       "      <td>72.900002</td>\n",
       "      <td>36.500000</td>\n",
       "      <td>72.099998</td>\n",
       "      <td>NaN</td>\n",
       "      <td>26.000000</td>\n",
       "      <td>2843000.0</td>\n",
       "      <td>154.287003</td>\n",
       "      <td>NaN</td>\n",
       "      <td>42.0</td>\n",
       "    </tr>\n",
       "    <tr>\n",
       "      <th>2</th>\n",
       "      <td>1952.0</td>\n",
       "      <td>15.3</td>\n",
       "      <td>8071.0</td>\n",
       "      <td>73.099998</td>\n",
       "      <td>36.200001</td>\n",
       "      <td>71.300003</td>\n",
       "      <td>NaN</td>\n",
       "      <td>26.500000</td>\n",
       "      <td>2851200.0</td>\n",
       "      <td>156.953995</td>\n",
       "      <td>NaN</td>\n",
       "      <td>43.0</td>\n",
       "    </tr>\n",
       "    <tr>\n",
       "      <th>3</th>\n",
       "      <td>1953.0</td>\n",
       "      <td>15.2</td>\n",
       "      <td>8319.0</td>\n",
       "      <td>71.300003</td>\n",
       "      <td>28.500000</td>\n",
       "      <td>62.700001</td>\n",
       "      <td>NaN</td>\n",
       "      <td>26.700001</td>\n",
       "      <td>2953900.0</td>\n",
       "      <td>159.565002</td>\n",
       "      <td>NaN</td>\n",
       "      <td>44.0</td>\n",
       "    </tr>\n",
       "    <tr>\n",
       "      <th>4</th>\n",
       "      <td>1954.0</td>\n",
       "      <td>15.8</td>\n",
       "      <td>8276.0</td>\n",
       "      <td>64.400002</td>\n",
       "      <td>27.400000</td>\n",
       "      <td>63.400002</td>\n",
       "      <td>NaN</td>\n",
       "      <td>26.900000</td>\n",
       "      <td>3099700.0</td>\n",
       "      <td>162.391006</td>\n",
       "      <td>NaN</td>\n",
       "      <td>45.0</td>\n",
       "    </tr>\n",
       "  </tbody>\n",
       "</table>\n",
       "</div>"
      ],
      "text/plain": [
       "     year     q       y     pchick      pbeef       pcor  pf        cpi  \\\n",
       "0  1950.0  14.3  7863.0  69.500000  31.200001  59.799999 NaN  24.100000   \n",
       "1  1951.0  15.1  7953.0  72.900002  36.500000  72.099998 NaN  26.000000   \n",
       "2  1952.0  15.3  8071.0  73.099998  36.200001  71.300003 NaN  26.500000   \n",
       "3  1953.0  15.2  8319.0  71.300003  28.500000  62.700001 NaN  26.700001   \n",
       "4  1954.0  15.8  8276.0  64.400002  27.400000  63.400002 NaN  26.900000   \n",
       "\n",
       "      qproda         pop  meatex  time  \n",
       "0  2628500.0  151.684006     NaN  41.0  \n",
       "1  2843000.0  154.287003     NaN  42.0  \n",
       "2  2851200.0  156.953995     NaN  43.0  \n",
       "3  2953900.0  159.565002     NaN  44.0  \n",
       "4  3099700.0  162.391006     NaN  45.0  "
      ]
     },
     "execution_count": 22,
     "metadata": {},
     "output_type": "execute_result"
    }
   ],
   "source": [
    "df.head()"
   ]
  },
  {
   "cell_type": "markdown",
   "metadata": {},
   "source": [
    "Plot the Consumer Price Index (CPI):"
   ]
  },
  {
   "cell_type": "code",
   "execution_count": 23,
   "metadata": {},
   "outputs": [
    {
     "data": {
      "text/plain": [
       "<Axes: >"
      ]
     },
     "execution_count": 23,
     "metadata": {},
     "output_type": "execute_result"
    },
    {
     "data": {
      "image/png": "[encoded data removed]",
      "text/plain": [
       "<Figure size 640x480 with 1 Axes>"
      ]
     },
     "metadata": {},
     "output_type": "display_data"
    }
   ],
   "source": [
    "df.loc[:,'cpi'].plot()"
   ]
  },
  {
   "cell_type": "markdown",
   "metadata": {},
   "source": [
    "![green-divider](https://user-images.githubusercontent.com/7065401/52071924-c003ad80-2562-11e9-8297-1c6595f8a7ff.png)\n",
    "\n",
    "## Google BigQuery\n",
    "\n",
    "Google BigQuery data can be loaded using pandas `read_gbq` method.\n",
    "\n",
    "This method requires the `pandas-gbq` package and a _BigQuery project_ (you can create a new one from [here](https://console.cloud.google.com/bigquery))."
   ]
  },
  {
   "cell_type": "code",
   "execution_count": null,
   "metadata": {
    "scrolled": true
   },
   "outputs": [],
   "source": [
    "!pip install pandas_gbq"
   ]
  },
  {
   "cell_type": "code",
   "execution_count": null,
   "metadata": {},
   "outputs": [],
   "source": [
    "import pandas_gbq"
   ]
  },
  {
   "cell_type": "code",
   "execution_count": null,
   "metadata": {
    "scrolled": true
   },
   "outputs": [],
   "source": [
    "sql = \"\"\"\n",
    "    SELECT name, SUM(number) as count\n",
    "    FROM `bigquery-public-data.usa_names.usa_1910_current`\n",
    "    GROUP BY name\n",
    "    ORDER BY count DESC\n",
    "    LIMIT 10\n",
    "\"\"\"\n",
    "\n",
    "pandas_gbq.read_gbq(sql,\n",
    "                    project_id='MY_PROJECT_ID')"
   ]
  },
  {
   "cell_type": "markdown",
   "metadata": {},
   "source": [
    "![purple-divider](https://user-images.githubusercontent.com/7065401/52071927-c1cd7100-2562-11e9-908a-dde91ba14e59.png)"
   ]
  }
 ],
 "metadata": {
  "kernelspec": {
   "display_name": ".venv",
   "language": "python",
   "name": "python3"
  },
  "language_info": {
   "codemirror_mode": {
    "name": "ipython",
    "version": 3
   },
   "file_extension": ".py",
   "mimetype": "text/x-python",
   "name": "python",
   "nbconvert_exporter": "python",
   "pygments_lexer": "ipython3",
   "version": "3.11.3"
  }
 },
 "nbformat": 4,
 "nbformat_minor": 2
}
